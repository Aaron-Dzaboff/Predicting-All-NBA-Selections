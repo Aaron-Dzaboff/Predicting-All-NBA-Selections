{
 "cells": [
  {
   "cell_type": "markdown",
   "metadata": {},
   "source": [
    "## Predicting All-NBA Selections"
   ]
  },
  {
   "cell_type": "markdown",
   "metadata": {},
   "source": [
    "### By: Aaron Dzaboff"
   ]
  },
  {
   "cell_type": "markdown",
   "metadata": {},
   "source": [
    "## Required Packages"
   ]
  },
  {
   "cell_type": "code",
   "execution_count": 1,
   "metadata": {},
   "outputs": [],
   "source": [
    "# ! pip install -U scikit-learn\n",
    "# ! pip install pandas\n",
    "# ! python -m pip install -U matplotlib"
   ]
  },
  {
   "cell_type": "markdown",
   "metadata": {},
   "source": [
    "## Importing Modules"
   ]
  },
  {
   "cell_type": "code",
   "execution_count": 2,
   "metadata": {},
   "outputs": [],
   "source": [
    "import pandas as pd                                       \n",
    "import matplotlib.pyplot as plt\n",
    "from sklearn import preprocessing\n",
    "from sklearn.preprocessing import scale\n",
    "from sklearn.cluster import KMeans                        \n",
    "from sklearn.model_selection import train_test_split      \n",
    "from sklearn.neighbors import KNeighborsClassifier        \n",
    "from sklearn.linear_model import LogisticRegression       \n",
    "from sklearn.svm import LinearSVC, SVC\n",
    "from sklearn.neural_network import MLPClassifier\n",
    "from operator import itemgetter"
   ]
  },
  {
   "cell_type": "markdown",
   "metadata": {},
   "source": [
    "## Importing data sets and creating pandas dataframe"
   ]
  },
  {
   "cell_type": "code",
   "execution_count": 3,
   "metadata": {},
   "outputs": [],
   "source": [
    "df_historical = pd.read_csv(\"historical-all-nba.csv\")\n",
    "df_current = pd.read_excel(\"2019_2020_stats.xlsx\")"
   ]
  },
  {
   "cell_type": "code",
   "execution_count": 4,
   "metadata": {},
   "outputs": [
    {
     "data": {
      "text/html": [
       "<div>\n",
       "<style scoped>\n",
       "    .dataframe tbody tr th:only-of-type {\n",
       "        vertical-align: middle;\n",
       "    }\n",
       "\n",
       "    .dataframe tbody tr th {\n",
       "        vertical-align: top;\n",
       "    }\n",
       "\n",
       "    .dataframe thead th {\n",
       "        text-align: right;\n",
       "    }\n",
       "</style>\n",
       "<table border=\"1\" class=\"dataframe\">\n",
       "  <thead>\n",
       "    <tr style=\"text-align: right;\">\n",
       "      <th></th>\n",
       "      <th>Player</th>\n",
       "      <th>Tm</th>\n",
       "      <th>MP</th>\n",
       "      <th>PTS</th>\n",
       "      <th>TRB</th>\n",
       "      <th>AST</th>\n",
       "      <th>STL</th>\n",
       "      <th>BLK</th>\n",
       "      <th>FG_perc</th>\n",
       "      <th>3pt_perc</th>\n",
       "      <th>FT_perc</th>\n",
       "      <th>WS</th>\n",
       "      <th>VORP</th>\n",
       "      <th>BPM</th>\n",
       "      <th>All_NBA</th>\n",
       "      <th>All_Star</th>\n",
       "    </tr>\n",
       "  </thead>\n",
       "  <tbody>\n",
       "    <tr>\n",
       "      <th>0</th>\n",
       "      <td>George Gervin</td>\n",
       "      <td>SAS</td>\n",
       "      <td>37.6</td>\n",
       "      <td>33.1</td>\n",
       "      <td>5.2</td>\n",
       "      <td>2.6</td>\n",
       "      <td>1.4</td>\n",
       "      <td>1.0</td>\n",
       "      <td>0.528</td>\n",
       "      <td>0.314</td>\n",
       "      <td>0.852</td>\n",
       "      <td>10.6</td>\n",
       "      <td>3.1</td>\n",
       "      <td>2.2</td>\n",
       "      <td>1</td>\n",
       "      <td>1</td>\n",
       "    </tr>\n",
       "    <tr>\n",
       "      <th>1</th>\n",
       "      <td>Eddie Johnson</td>\n",
       "      <td>ATL</td>\n",
       "      <td>33.2</td>\n",
       "      <td>18.5</td>\n",
       "      <td>2.5</td>\n",
       "      <td>4.7</td>\n",
       "      <td>1.5</td>\n",
       "      <td>0.3</td>\n",
       "      <td>0.487</td>\n",
       "      <td>0.385</td>\n",
       "      <td>0.828</td>\n",
       "      <td>8.2</td>\n",
       "      <td>2.8</td>\n",
       "      <td>2.2</td>\n",
       "      <td>0</td>\n",
       "      <td>1</td>\n",
       "    </tr>\n",
       "    <tr>\n",
       "      <th>2</th>\n",
       "      <td>Moses Malone</td>\n",
       "      <td>HOU</td>\n",
       "      <td>38.3</td>\n",
       "      <td>25.8</td>\n",
       "      <td>14.5</td>\n",
       "      <td>1.8</td>\n",
       "      <td>1.0</td>\n",
       "      <td>1.3</td>\n",
       "      <td>0.502</td>\n",
       "      <td>0.000</td>\n",
       "      <td>0.719</td>\n",
       "      <td>11.9</td>\n",
       "      <td>3.8</td>\n",
       "      <td>2.8</td>\n",
       "      <td>1</td>\n",
       "      <td>1</td>\n",
       "    </tr>\n",
       "    <tr>\n",
       "      <th>3</th>\n",
       "      <td>Julius Erving</td>\n",
       "      <td>PHI</td>\n",
       "      <td>36.1</td>\n",
       "      <td>26.9</td>\n",
       "      <td>7.4</td>\n",
       "      <td>4.6</td>\n",
       "      <td>2.2</td>\n",
       "      <td>1.8</td>\n",
       "      <td>0.519</td>\n",
       "      <td>0.200</td>\n",
       "      <td>0.787</td>\n",
       "      <td>12.5</td>\n",
       "      <td>6.5</td>\n",
       "      <td>7.2</td>\n",
       "      <td>1</td>\n",
       "      <td>1</td>\n",
       "    </tr>\n",
       "    <tr>\n",
       "      <th>4</th>\n",
       "      <td>John Drew</td>\n",
       "      <td>ATL</td>\n",
       "      <td>28.8</td>\n",
       "      <td>19.5</td>\n",
       "      <td>5.9</td>\n",
       "      <td>1.3</td>\n",
       "      <td>1.1</td>\n",
       "      <td>0.3</td>\n",
       "      <td>0.453</td>\n",
       "      <td>0.000</td>\n",
       "      <td>0.757</td>\n",
       "      <td>6.4</td>\n",
       "      <td>0.8</td>\n",
       "      <td>-0.7</td>\n",
       "      <td>0</td>\n",
       "      <td>1</td>\n",
       "    </tr>\n",
       "  </tbody>\n",
       "</table>\n",
       "</div>"
      ],
      "text/plain": [
       "          Player   Tm    MP   PTS   TRB  AST  STL  BLK  FG_perc  3pt_perc  \\\n",
       "0  George Gervin  SAS  37.6  33.1   5.2  2.6  1.4  1.0    0.528     0.314   \n",
       "1  Eddie Johnson  ATL  33.2  18.5   2.5  4.7  1.5  0.3    0.487     0.385   \n",
       "2   Moses Malone  HOU  38.3  25.8  14.5  1.8  1.0  1.3    0.502     0.000   \n",
       "3  Julius Erving  PHI  36.1  26.9   7.4  4.6  2.2  1.8    0.519     0.200   \n",
       "4      John Drew  ATL  28.8  19.5   5.9  1.3  1.1  0.3    0.453     0.000   \n",
       "\n",
       "   FT_perc    WS  VORP  BPM  All_NBA  All_Star  \n",
       "0    0.852  10.6   3.1  2.2        1         1  \n",
       "1    0.828   8.2   2.8  2.2        0         1  \n",
       "2    0.719  11.9   3.8  2.8        1         1  \n",
       "3    0.787  12.5   6.5  7.2        1         1  \n",
       "4    0.757   6.4   0.8 -0.7        0         1  "
      ]
     },
     "execution_count": 4,
     "metadata": {},
     "output_type": "execute_result"
    }
   ],
   "source": [
    "df_historical.head()"
   ]
  },
  {
   "cell_type": "code",
   "execution_count": 5,
   "metadata": {},
   "outputs": [
    {
     "data": {
      "text/html": [
       "<div>\n",
       "<style scoped>\n",
       "    .dataframe tbody tr th:only-of-type {\n",
       "        vertical-align: middle;\n",
       "    }\n",
       "\n",
       "    .dataframe tbody tr th {\n",
       "        vertical-align: top;\n",
       "    }\n",
       "\n",
       "    .dataframe thead th {\n",
       "        text-align: right;\n",
       "    }\n",
       "</style>\n",
       "<table border=\"1\" class=\"dataframe\">\n",
       "  <thead>\n",
       "    <tr style=\"text-align: right;\">\n",
       "      <th></th>\n",
       "      <th>Player</th>\n",
       "      <th>Tm</th>\n",
       "      <th>MP</th>\n",
       "      <th>PTS</th>\n",
       "      <th>TRB</th>\n",
       "      <th>AST</th>\n",
       "      <th>STL</th>\n",
       "      <th>BLK</th>\n",
       "      <th>FG_perc</th>\n",
       "      <th>3pt_perc</th>\n",
       "      <th>FT_perc</th>\n",
       "      <th>WS</th>\n",
       "      <th>VORP</th>\n",
       "      <th>BPM</th>\n",
       "      <th>All_Star</th>\n",
       "    </tr>\n",
       "  </thead>\n",
       "  <tbody>\n",
       "    <tr>\n",
       "      <th>0</th>\n",
       "      <td>Steven Adams</td>\n",
       "      <td>OKC</td>\n",
       "      <td>27.0</td>\n",
       "      <td>10.7</td>\n",
       "      <td>9.3</td>\n",
       "      <td>2.6</td>\n",
       "      <td>0.7</td>\n",
       "      <td>1.1</td>\n",
       "      <td>0.585</td>\n",
       "      <td>0.000</td>\n",
       "      <td>0.592</td>\n",
       "      <td>4.9</td>\n",
       "      <td>2.1</td>\n",
       "      <td>4.4</td>\n",
       "      <td>0</td>\n",
       "    </tr>\n",
       "    <tr>\n",
       "      <th>1</th>\n",
       "      <td>Bam Adebayo</td>\n",
       "      <td>MIA</td>\n",
       "      <td>34.5</td>\n",
       "      <td>15.8</td>\n",
       "      <td>10.4</td>\n",
       "      <td>4.9</td>\n",
       "      <td>1.2</td>\n",
       "      <td>1.2</td>\n",
       "      <td>0.579</td>\n",
       "      <td>0.091</td>\n",
       "      <td>0.681</td>\n",
       "      <td>7.1</td>\n",
       "      <td>3.3</td>\n",
       "      <td>5.1</td>\n",
       "      <td>1</td>\n",
       "    </tr>\n",
       "    <tr>\n",
       "      <th>2</th>\n",
       "      <td>LaMarcus Aldridge</td>\n",
       "      <td>SAS</td>\n",
       "      <td>33.2</td>\n",
       "      <td>19.1</td>\n",
       "      <td>7.6</td>\n",
       "      <td>2.4</td>\n",
       "      <td>0.6</td>\n",
       "      <td>1.6</td>\n",
       "      <td>0.501</td>\n",
       "      <td>0.407</td>\n",
       "      <td>0.830</td>\n",
       "      <td>4.6</td>\n",
       "      <td>1.6</td>\n",
       "      <td>1.8</td>\n",
       "      <td>0</td>\n",
       "    </tr>\n",
       "    <tr>\n",
       "      <th>3</th>\n",
       "      <td>Nickeil Alexander-Walker</td>\n",
       "      <td>NOP</td>\n",
       "      <td>12.2</td>\n",
       "      <td>5.1</td>\n",
       "      <td>2.0</td>\n",
       "      <td>1.8</td>\n",
       "      <td>0.3</td>\n",
       "      <td>0.2</td>\n",
       "      <td>0.339</td>\n",
       "      <td>0.342</td>\n",
       "      <td>0.607</td>\n",
       "      <td>-0.4</td>\n",
       "      <td>-0.5</td>\n",
       "      <td>-6.1</td>\n",
       "      <td>0</td>\n",
       "    </tr>\n",
       "    <tr>\n",
       "      <th>4</th>\n",
       "      <td>Grayson Allen</td>\n",
       "      <td>MEM</td>\n",
       "      <td>16.6</td>\n",
       "      <td>7.4</td>\n",
       "      <td>2.2</td>\n",
       "      <td>1.4</td>\n",
       "      <td>0.2</td>\n",
       "      <td>0.0</td>\n",
       "      <td>0.449</td>\n",
       "      <td>0.363</td>\n",
       "      <td>0.857</td>\n",
       "      <td>0.7</td>\n",
       "      <td>-0.2</td>\n",
       "      <td>-3.4</td>\n",
       "      <td>0</td>\n",
       "    </tr>\n",
       "  </tbody>\n",
       "</table>\n",
       "</div>"
      ],
      "text/plain": [
       "                     Player   Tm    MP   PTS   TRB  AST  STL  BLK  FG_perc  \\\n",
       "0              Steven Adams  OKC  27.0  10.7   9.3  2.6  0.7  1.1    0.585   \n",
       "1               Bam Adebayo  MIA  34.5  15.8  10.4  4.9  1.2  1.2    0.579   \n",
       "2         LaMarcus Aldridge  SAS  33.2  19.1   7.6  2.4  0.6  1.6    0.501   \n",
       "3  Nickeil Alexander-Walker  NOP  12.2   5.1   2.0  1.8  0.3  0.2    0.339   \n",
       "4             Grayson Allen  MEM  16.6   7.4   2.2  1.4  0.2  0.0    0.449   \n",
       "\n",
       "   3pt_perc  FT_perc   WS  VORP  BPM  All_Star  \n",
       "0     0.000    0.592  4.9   2.1  4.4         0  \n",
       "1     0.091    0.681  7.1   3.3  5.1         1  \n",
       "2     0.407    0.830  4.6   1.6  1.8         0  \n",
       "3     0.342    0.607 -0.4  -0.5 -6.1         0  \n",
       "4     0.363    0.857  0.7  -0.2 -3.4         0  "
      ]
     },
     "execution_count": 5,
     "metadata": {},
     "output_type": "execute_result"
    }
   ],
   "source": [
    "df_current.head()"
   ]
  },
  {
   "cell_type": "markdown",
   "metadata": {},
   "source": [
    "## Visualizing All-NBA Selections"
   ]
  },
  {
   "cell_type": "code",
   "execution_count": 6,
   "metadata": {},
   "outputs": [],
   "source": [
    "all_nba = df_historical[df_historical.All_NBA == 1]\n",
    "non_all_nba = df_historical[df_historical.All_NBA == 0]"
   ]
  },
  {
   "cell_type": "code",
   "execution_count": 7,
   "metadata": {},
   "outputs": [
    {
     "data": {
      "text/plain": [
       "Text(0.5, 0.98, 'PPG, VORP, and All-NBA Selections')"
      ]
     },
     "execution_count": 7,
     "metadata": {},
     "output_type": "execute_result"
    },
    {
     "data": {
      "image/png": "[encoded data removed]",
      "text/plain": [
       "<Figure size 432x288 with 1 Axes>"
      ]
     },
     "metadata": {
      "needs_background": "light"
     },
     "output_type": "display_data"
    }
   ],
   "source": [
    "plt.style.use(\"seaborn-bright\")\n",
    "\n",
    "ppg_all_nba,ax = plt.subplots()\n",
    "\n",
    "ax.scatter(all_nba['PTS'], all_nba['VORP'], label = \"All-NBA players\", s = 25)\n",
    "ax.scatter(non_all_nba['PTS'], non_all_nba['VORP'], label = \"Non All-NBA\", s = 25)\n",
    "\n",
    "ax.legend(loc='best', prop={'size': 9, \"family\": \"Rockwell\"})\n",
    "\n",
    "ax.set_xlabel('PPG')\n",
    "ax.set_ylabel('VORP')\n",
    "\n",
    "ppg_all_nba.suptitle(\"PPG, VORP, and All-NBA Selections\", weight = 'bold', size = 18)"
   ]
  },
  {
   "cell_type": "code",
   "execution_count": 8,
   "metadata": {},
   "outputs": [
    {
     "data": {
      "text/plain": [
       "Text(0.5, 0.98, 'WS, BPM, and All-NBA Selections')"
      ]
     },
     "execution_count": 8,
     "metadata": {},
     "output_type": "execute_result"
    },
    {
     "data": {
      "image/png": "[encoded data removed]",
      "text/plain": [
       "<Figure size 432x288 with 1 Axes>"
      ]
     },
     "metadata": {
      "needs_background": "light"
     },
     "output_type": "display_data"
    }
   ],
   "source": [
    "plt.style.use(\"seaborn-bright\")\n",
    "\n",
    "ws_vorp,ax = plt.subplots()\n",
    "\n",
    "ax.scatter(all_nba['WS'], all_nba['BPM'], label = \"All-NBA players\", s = 25)\n",
    "ax.scatter(non_all_nba['WS'], non_all_nba['BPM'], label = \"Non All-NBA\", s = 25)\n",
    "\n",
    "ax.legend(loc='best', prop={'size': 9, \"family\": \"Rockwell\"})\n",
    "\n",
    "ax.set_xlabel('WS')\n",
    "ax.set_ylabel('BPM')\n",
    "\n",
    "ws_vorp.suptitle(\"WS, BPM, and All-NBA Selections\", weight = 'bold', size = 18)"
   ]
  },
  {
   "cell_type": "code",
   "execution_count": 9,
   "metadata": {},
   "outputs": [
    {
     "data": {
      "text/plain": [
       "Text(0.5, 0.98, 'PPG Histogram')"
      ]
     },
     "execution_count": 9,
     "metadata": {},
     "output_type": "execute_result"
    },
    {
     "data": {
      "image/png": "[encoded data removed]",
      "text/plain": [
       "<Figure size 432x288 with 1 Axes>"
      ]
     },
     "metadata": {
      "needs_background": "light"
     },
     "output_type": "display_data"
    }
   ],
   "source": [
    "ppg_hist, ax = plt.subplots()\n",
    "\n",
    "ax.hist(all_nba['PTS'], alpha = .75, label = 'All-NBA players')\n",
    "ax.hist(non_all_nba['PTS'], alpha = .75, label = 'The rest')\n",
    "\n",
    "ax.legend(loc='best', prop={'size': 9, \"family\": \"Rockwell\"})\n",
    "\n",
    "ax.set_xlabel('PPG')\n",
    "ax.set_ylabel('Frequency')\n",
    "\n",
    "ppg_hist.suptitle(\"PPG Histogram\", weight = 'bold', size = 18)"
   ]
  },
  {
   "cell_type": "code",
   "execution_count": 10,
   "metadata": {},
   "outputs": [
    {
     "data": {
      "text/plain": [
       "Text(0.5, 0.98, 'WS Histogram')"
      ]
     },
     "execution_count": 10,
     "metadata": {},
     "output_type": "execute_result"
    },
    {
     "data": {
      "image/png": "[encoded data removed]",
      "text/plain": [
       "<Figure size 432x288 with 1 Axes>"
      ]
     },
     "metadata": {
      "needs_background": "light"
     },
     "output_type": "display_data"
    }
   ],
   "source": [
    "ws_hist, ax = plt.subplots()\n",
    "\n",
    "ax.hist(all_nba['WS'], alpha = .75, label = 'All-NBA players')\n",
    "ax.hist(non_all_nba['WS'], alpha = .75, label = 'The rest')\n",
    "\n",
    "ax.legend(loc='best', prop={'size': 9, \"family\": \"Rockwell\"})\n",
    "\n",
    "ax.set_xlabel('WS')\n",
    "ax.set_ylabel('Frequency')\n",
    "\n",
    "ws_hist.suptitle(\"WS Histogram\", weight = 'bold', size = 18)"
   ]
  },
  {
   "cell_type": "code",
   "execution_count": 11,
   "metadata": {},
   "outputs": [
    {
     "data": {
      "text/plain": [
       "Text(0.5, 0.98, 'VORP Histogram')"
      ]
     },
     "execution_count": 11,
     "metadata": {},
     "output_type": "execute_result"
    },
    {
     "data": {
      "image/png": "[encoded data removed]",
      "text/plain": [
       "<Figure size 432x288 with 1 Axes>"
      ]
     },
     "metadata": {
      "needs_background": "light"
     },
     "output_type": "display_data"
    }
   ],
   "source": [
    "vorp_hist, ax = plt.subplots()\n",
    "\n",
    "ax.hist(all_nba['VORP'], alpha = .75, label = 'All-NBA players')\n",
    "ax.hist(non_all_nba[\"VORP\"], alpha = .75, label = 'The rest')\n",
    "\n",
    "ax.legend(loc='best', prop={'size': 9, \"family\": \"Rockwell\"})\n",
    "\n",
    "ax.set_xlabel('VORP')\n",
    "ax.set_ylabel('Frequency')\n",
    "\n",
    "vorp_hist.suptitle(\"VORP Histogram\", weight = 'bold', size = 18)"
   ]
  },
  {
   "cell_type": "markdown",
   "metadata": {},
   "source": [
    "## Preparing data for modeling"
   ]
  },
  {
   "cell_type": "code",
   "execution_count": 12,
   "metadata": {},
   "outputs": [],
   "source": [
    "features = df_historical[[\"MP\",\"PTS\",\"TRB\",\"AST\",\"STL\",\"BLK\",\"WS\",\"VORP\",\"BPM\",\"All_Star\"]]\n",
    "target = df_historical[\"All_NBA\"]"
   ]
  },
  {
   "cell_type": "code",
   "execution_count": 13,
   "metadata": {},
   "outputs": [],
   "source": [
    "X = features\n",
    "y = target"
   ]
  },
  {
   "cell_type": "code",
   "execution_count": 14,
   "metadata": {},
   "outputs": [],
   "source": [
    "#Splitting data into training set and test set using just historical data set\n",
    "X_train, X_test, y_train, y_test = train_test_split(X, y, test_size=0.25, random_state=0)"
   ]
  },
  {
   "cell_type": "markdown",
   "metadata": {},
   "source": [
    "## Modeling with k-Nearest Neighbors(k-NN)"
   ]
  },
  {
   "cell_type": "code",
   "execution_count": 38,
   "metadata": {},
   "outputs": [
    {
     "data": {
      "text/plain": [
       "KNeighborsClassifier(algorithm='auto', leaf_size=30, metric='minkowski',\n",
       "                     metric_params=None, n_jobs=None, n_neighbors=5, p=2,\n",
       "                     weights='uniform')"
      ]
     },
     "execution_count": 38,
     "metadata": {},
     "output_type": "execute_result"
    }
   ],
   "source": [
    "knn = KNeighborsClassifier(n_neighbors=5)\n",
    "knn.fit(X_train, y_train) "
   ]
  },
  {
   "cell_type": "code",
   "execution_count": 39,
   "metadata": {},
   "outputs": [
    {
     "data": {
      "text/plain": [
       "0.8326359832635983"
      ]
     },
     "execution_count": 39,
     "metadata": {},
     "output_type": "execute_result"
    }
   ],
   "source": [
    "knn.score(X_train, y_train)"
   ]
  },
  {
   "cell_type": "code",
   "execution_count": 40,
   "metadata": {},
   "outputs": [
    {
     "data": {
      "text/plain": [
       "0.7656903765690377"
      ]
     },
     "execution_count": 40,
     "metadata": {},
     "output_type": "execute_result"
    }
   ],
   "source": [
    "knn.score(X_test, y_test) "
   ]
  },
  {
   "cell_type": "markdown",
   "metadata": {},
   "source": [
    "## Modeling with Logistic Regression"
   ]
  },
  {
   "cell_type": "code",
   "execution_count": 41,
   "metadata": {},
   "outputs": [
    {
     "data": {
      "text/plain": [
       "LogisticRegression(C=1.0, class_weight=None, dual=False, fit_intercept=True,\n",
       "                   intercept_scaling=1, l1_ratio=None, max_iter=100,\n",
       "                   multi_class='auto', n_jobs=None, penalty='l2',\n",
       "                   random_state=None, solver='liblinear', tol=0.0001, verbose=0,\n",
       "                   warm_start=False)"
      ]
     },
     "execution_count": 41,
     "metadata": {},
     "output_type": "execute_result"
    }
   ],
   "source": [
    "lr = LogisticRegression(solver=\"liblinear\")\n",
    "lr.fit(X_train, y_train)"
   ]
  },
  {
   "cell_type": "code",
   "execution_count": 42,
   "metadata": {},
   "outputs": [
    {
     "data": {
      "text/plain": [
       "0.796373779637378"
      ]
     },
     "execution_count": 42,
     "metadata": {},
     "output_type": "execute_result"
    }
   ],
   "source": [
    "lr.score(X_train, y_train)"
   ]
  },
  {
   "cell_type": "code",
   "execution_count": 43,
   "metadata": {},
   "outputs": [
    {
     "data": {
      "text/plain": [
       "0.799163179916318"
      ]
     },
     "execution_count": 43,
     "metadata": {},
     "output_type": "execute_result"
    }
   ],
   "source": [
    "lr.score(X_test, y_test)"
   ]
  },
  {
   "cell_type": "markdown",
   "metadata": {},
   "source": [
    "## Modeling with Linear Support Vector Machines (SVMs)"
   ]
  },
  {
   "cell_type": "code",
   "execution_count": 44,
   "metadata": {},
   "outputs": [
    {
     "name": "stderr",
     "output_type": "stream",
     "text": [
      "C:\\Users\\aaron\\Anaconda3\\lib\\site-packages\\sklearn\\svm\\_base.py:947: ConvergenceWarning: Liblinear failed to converge, increase the number of iterations.\n",
      "  \"the number of iterations.\", ConvergenceWarning)\n"
     ]
    },
    {
     "data": {
      "text/plain": [
       "LinearSVC(C=1.0, class_weight=None, dual=True, fit_intercept=True,\n",
       "          intercept_scaling=1, loss='squared_hinge', max_iter=1000,\n",
       "          multi_class='ovr', penalty='l2', random_state=None, tol=0.0001,\n",
       "          verbose=0)"
      ]
     },
     "execution_count": 44,
     "metadata": {},
     "output_type": "execute_result"
    }
   ],
   "source": [
    "svm = LinearSVC()\n",
    "svm.fit(X_train, y_train)"
   ]
  },
  {
   "cell_type": "code",
   "execution_count": 45,
   "metadata": {},
   "outputs": [
    {
     "data": {
      "text/plain": [
       "0.6722454672245467"
      ]
     },
     "execution_count": 45,
     "metadata": {},
     "output_type": "execute_result"
    }
   ],
   "source": [
    "svm.score(X_train, y_train)"
   ]
  },
  {
   "cell_type": "code",
   "execution_count": 46,
   "metadata": {},
   "outputs": [
    {
     "data": {
      "text/plain": [
       "0.6317991631799164"
      ]
     },
     "execution_count": 46,
     "metadata": {},
     "output_type": "execute_result"
    }
   ],
   "source": [
    "svm.score(X_test, y_test)"
   ]
  },
  {
   "cell_type": "markdown",
   "metadata": {},
   "source": [
    "## Modeling with Kernelized Support Vector Machines (SVMs)"
   ]
  },
  {
   "cell_type": "code",
   "execution_count": 47,
   "metadata": {},
   "outputs": [
    {
     "data": {
      "text/plain": [
       "SVC(C=1.0, break_ties=False, cache_size=200, class_weight=None, coef0=0.0,\n",
       "    decision_function_shape='ovr', degree=3, gamma='auto', kernel='rbf',\n",
       "    max_iter=-1, probability=False, random_state=None, shrinking=True,\n",
       "    tol=0.001, verbose=False)"
      ]
     },
     "execution_count": 47,
     "metadata": {},
     "output_type": "execute_result"
    }
   ],
   "source": [
    "ksvm = SVC(C=1.0, kernel=\"rbf\", gamma=\"auto\")\n",
    "ksvm.fit(X_train, y_train)"
   ]
  },
  {
   "cell_type": "code",
   "execution_count": 48,
   "metadata": {},
   "outputs": [
    {
     "data": {
      "text/plain": [
       "0.9079497907949791"
      ]
     },
     "execution_count": 48,
     "metadata": {},
     "output_type": "execute_result"
    }
   ],
   "source": [
    "ksvm.score(X_train, y_train)"
   ]
  },
  {
   "cell_type": "code",
   "execution_count": 49,
   "metadata": {},
   "outputs": [
    {
     "data": {
      "text/plain": [
       "0.7656903765690377"
      ]
     },
     "execution_count": 49,
     "metadata": {},
     "output_type": "execute_result"
    }
   ],
   "source": [
    "ksvm.score(X_test, y_test)"
   ]
  },
  {
   "cell_type": "markdown",
   "metadata": {},
   "source": [
    "## Modeling with Neural Networks"
   ]
  },
  {
   "cell_type": "code",
   "execution_count": 50,
   "metadata": {},
   "outputs": [
    {
     "name": "stderr",
     "output_type": "stream",
     "text": [
      "C:\\Users\\aaron\\Anaconda3\\lib\\site-packages\\sklearn\\neural_network\\_multilayer_perceptron.py:571: ConvergenceWarning: Stochastic Optimizer: Maximum iterations (200) reached and the optimization hasn't converged yet.\n",
      "  % self.max_iter, ConvergenceWarning)\n"
     ]
    },
    {
     "data": {
      "text/plain": [
       "MLPClassifier(activation='relu', alpha=0.0001, batch_size='auto', beta_1=0.9,\n",
       "              beta_2=0.999, early_stopping=False, epsilon=1e-08,\n",
       "              hidden_layer_sizes=(100,), learning_rate='constant',\n",
       "              learning_rate_init=0.001, max_fun=15000, max_iter=200,\n",
       "              momentum=0.9, n_iter_no_change=10, nesterovs_momentum=True,\n",
       "              power_t=0.5, random_state=0, shuffle=True, solver='adam',\n",
       "              tol=0.0001, validation_fraction=0.1, verbose=False,\n",
       "              warm_start=False)"
      ]
     },
     "execution_count": 50,
     "metadata": {},
     "output_type": "execute_result"
    }
   ],
   "source": [
    "mlp = MLPClassifier(hidden_layer_sizes=(100, ), random_state=0)\n",
    "mlp.fit(X_train, y_train)"
   ]
  },
  {
   "cell_type": "code",
   "execution_count": 51,
   "metadata": {},
   "outputs": [
    {
     "data": {
      "text/plain": [
       "0.8145048814504882"
      ]
     },
     "execution_count": 51,
     "metadata": {},
     "output_type": "execute_result"
    }
   ],
   "source": [
    "mlp.score(X_train, y_train)"
   ]
  },
  {
   "cell_type": "code",
   "execution_count": 52,
   "metadata": {},
   "outputs": [
    {
     "data": {
      "text/plain": [
       "0.8200836820083682"
      ]
     },
     "execution_count": 52,
     "metadata": {},
     "output_type": "execute_result"
    }
   ],
   "source": [
    "mlp.score(X_test, y_test)"
   ]
  },
  {
   "cell_type": "markdown",
   "metadata": {},
   "source": [
    "## Prediction"
   ]
  },
  {
   "cell_type": "code",
   "execution_count": 53,
   "metadata": {},
   "outputs": [],
   "source": [
    "df_current_predict = df_current[[\"MP\",\"PTS\",\"TRB\",\"AST\",\"STL\",\"BLK\",\"WS\",\"VORP\",\"BPM\",\"All_Star\"]]\n",
    "df_current_names = df_current.iloc[:, 0]"
   ]
  },
  {
   "cell_type": "code",
   "execution_count": 63,
   "metadata": {},
   "outputs": [
    {
     "name": "stdout",
     "output_type": "stream",
     "text": [
      "['Joel Embiid', 1.0]\n",
      "['LeBron James', 1.0]\n",
      "['Giannis Antetokounmpo', 0.8]\n",
      "['Luka Dončić', 0.8]\n",
      "['James Harden', 0.8]\n",
      "['Damian Lillard', 0.8]\n",
      "['Anthony Davis', 0.6]\n",
      "['Nikola Jokić', 0.6]\n",
      "['Ben Simmons', 0.6]\n",
      "['Karl-Anthony Towns', 0.6]\n",
      "['Hassan Whiteside', 0.6]\n",
      "['Bradley Beal', 0.4]\n",
      "['Jimmy Butler', 0.4]\n",
      "['Andre Drummond', 0.4]\n",
      "['Rudy Gobert', 0.4]\n"
     ]
    }
   ],
   "source": [
    "proba = knn.predict_proba(df_current_predict)\n",
    "pos_proba = proba[:, 1]\n",
    "combined_list = [[i, j] for i, j in zip(df_current_names, pos_proba)]\n",
    "combined_list = sorted(combined_list, key = itemgetter(1),  reverse = True)\n",
    "\n",
    "for i in combined_list[:15]:\n",
    "    print(i)"
   ]
  },
  {
   "cell_type": "code",
   "execution_count": 64,
   "metadata": {},
   "outputs": [
    {
     "name": "stdout",
     "output_type": "stream",
     "text": [
      "['Giannis Antetokounmpo', 0.9895596886322698]\n",
      "['Karl-Anthony Towns', 0.9852845221931213]\n",
      "['James Harden', 0.9836514347814994]\n",
      "['Kyrie Irving', 0.9657200662564308]\n",
      "['Luka Dončić', 0.9538269102564345]\n",
      "['Hassan Whiteside', 0.9432203116656583]\n",
      "['Andre Drummond', 0.9367071989368139]\n",
      "['Bradley Beal', 0.9256376168074029]\n",
      "['DeMar DeRozan', 0.9097216570241605]\n",
      "['LeBron James', 0.9057223613989904]\n",
      "['Anthony Davis', 0.8896661506502159]\n",
      "['Nikola Vučević', 0.8845764941874368]\n",
      "['Damian Lillard', 0.8749810505799501]\n",
      "['Paul George', 0.8735121815103353]\n",
      "['Montrezl Harrell', 0.852193899713158]\n"
     ]
    }
   ],
   "source": [
    "proba = lr.predict_proba(df_current_predict)\n",
    "pos_proba = proba[:, 1]\n",
    "combined_list = [[i, j] for i, j in zip(df_current_names, pos_proba)]\n",
    "combined_list = sorted(combined_list, key = itemgetter(1),  reverse = True)\n",
    "\n",
    "for i in combined_list[:15]:\n",
    "    print(i)"
   ]
  },
  {
   "cell_type": "code",
   "execution_count": 65,
   "metadata": {},
   "outputs": [
    {
     "name": "stdout",
     "output_type": "stream",
     "text": [
      "['Giannis Antetokounmpo', 0.9963782210926377]\n",
      "['Andre Drummond', 0.9864645715141046]\n",
      "['Hassan Whiteside', 0.9840685752903772]\n",
      "['James Harden', 0.9760176159034486]\n",
      "['Karl-Anthony Towns', 0.9695801899279338]\n",
      "['Luka Dončić', 0.9486541917663411]\n",
      "['DeAndre Jordan', 0.9125105307968292]\n",
      "['Anthony Davis', 0.8967479150459434]\n",
      "['Clint Capela', 0.8852889205014345]\n",
      "['Jonas Valančiūnas', 0.8720650042575482]\n",
      "['LeBron James', 0.8521400866665599]\n",
      "['Kyrie Irving', 0.8445658042253024]\n",
      "['Nikola Vučević', 0.8320080751537197]\n",
      "['Jarrett Allen', 0.8202431115966685]\n",
      "['Damian Lillard', 0.8173798423274387]\n"
     ]
    }
   ],
   "source": [
    "proba = mlp.predict_proba(df_current_predict)\n",
    "pos_proba = proba[:, 1]\n",
    "combined_list = [[i, j] for i, j in zip(df_current_names, pos_proba)]\n",
    "combined_list = sorted(combined_list, key = itemgetter(1),  reverse = True)\n",
    "\n",
    "for i in combined_list[:15]:\n",
    "    print(i)"
   ]
  }
 ],
 "metadata": {
  "kernelspec": {
   "display_name": "Python 3",
   "language": "python",
   "name": "python3"
  },
  "language_info": {
   "codemirror_mode": {
    "name": "ipython",
    "version": 3
   },
   "file_extension": ".py",
   "mimetype": "text/x-python",
   "name": "python",
   "nbconvert_exporter": "python",
   "pygments_lexer": "ipython3",
   "version": "3.7.3"
  }
 },
 "nbformat": 4,
 "nbformat_minor": 4
}
